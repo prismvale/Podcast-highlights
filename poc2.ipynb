{
  "nbformat": 4,
  "nbformat_minor": 0,
  "metadata": {
    "colab": {
      "provenance": [],
      "authorship_tag": "ABX9TyNterhnf0CJWZD2uq2/y4nJ",
      "include_colab_link": true
    },
    "kernelspec": {
      "name": "python3",
      "display_name": "Python 3"
    },
    "language_info": {
      "name": "python"
    }
  },
  "cells": [
    {
      "cell_type": "markdown",
      "metadata": {
        "id": "view-in-github",
        "colab_type": "text"
      },
      "source": [
        "<a href=\"https://colab.research.google.com/github/prismvale/Podcast-highlights/blob/main/poc2.ipynb\" target=\"_parent\"><img src=\"https://colab.research.google.com/assets/colab-badge.svg\" alt=\"Open In Colab\"/></a>"
      ]
    },
    {
      "cell_type": "code",
      "execution_count": null,
      "metadata": {
        "colab": {
          "base_uri": "https://localhost:8080/"
        },
        "id": "If_aKgmHo-sV",
        "outputId": "a44fe554-f9a5-4d29-b78a-448959f2342e"
      },
      "outputs": [
        {
          "output_type": "stream",
          "name": "stdout",
          "text": [
            "Collecting yt-dlp\n",
            "  Downloading yt_dlp-2025.9.5-py3-none-any.whl.metadata (177 kB)\n",
            "\u001b[2K     \u001b[90m━━━━━━━━━━━━━━━━━━━━━━━━━━━━━━━━━━━━━━━\u001b[0m \u001b[32m177.1/177.1 kB\u001b[0m \u001b[31m2.3 MB/s\u001b[0m eta \u001b[36m0:00:00\u001b[0m\n",
            "\u001b[?25hDownloading yt_dlp-2025.9.5-py3-none-any.whl (3.3 MB)\n",
            "\u001b[2K   \u001b[90m━━━━━━━━━━━━━━━━━━━━━━━━━━━━━━━━━━━━━━━━\u001b[0m \u001b[32m3.3/3.3 MB\u001b[0m \u001b[31m29.7 MB/s\u001b[0m eta \u001b[36m0:00:00\u001b[0m\n",
            "\u001b[?25hInstalling collected packages: yt-dlp\n",
            "Successfully installed yt-dlp-2025.9.5\n"
          ]
        }
      ],
      "source": [
        "pip install yt-dlp"
      ]
    },
    {
      "cell_type": "code",
      "source": [
        "import yt_dlp\n",
        "\n",
        "url = \"https://youtu.be/8eoi2BKaSRE?si=Sq7ypAxA348uGDoM\"\n",
        "ydl_opts = {\n",
        "    \"format\": \"mp4\",\n",
        "    \"outtmpl\": \"video.mp4\"\n",
        "}\n",
        "\n",
        "with yt_dlp.YoutubeDL(ydl_opts) as ydl:\n",
        "    ydl.download([url])"
      ],
      "metadata": {
        "colab": {
          "base_uri": "https://localhost:8080/"
        },
        "id": "kFfINju3tXG3",
        "outputId": "d8eefaa0-1c67-496d-d93e-8cbfb7ae4fa5"
      },
      "execution_count": null,
      "outputs": [
        {
          "output_type": "stream",
          "name": "stdout",
          "text": [
            "[youtube] Extracting URL: https://youtu.be/8eoi2BKaSRE?si=Sq7ypAxA348uGDoM\n",
            "[youtube] 8eoi2BKaSRE: Downloading webpage\n",
            "[youtube] 8eoi2BKaSRE: Downloading tv simply player API JSON\n",
            "[youtube] 8eoi2BKaSRE: Downloading tv client config\n",
            "[youtube] 8eoi2BKaSRE: Downloading player 72dd8066-main\n",
            "[youtube] 8eoi2BKaSRE: Downloading tv player API JSON\n",
            "[info] 8eoi2BKaSRE: Downloading 1 format(s): 18\n",
            "[download] Destination: video.mp4\n",
            "[download] 100% of   98.32MiB in 00:01:01 at 1.61MiB/s   \n"
          ]
        }
      ]
    },
    {
      "cell_type": "code",
      "source": [
        "import subprocess\n",
        "import json\n",
        "\n",
        "def get_duration(filename):\n",
        "    result = subprocess.run(\n",
        "        [\"ffprobe\", \"-v\", \"error\", \"-show_entries\",\n",
        "         \"format=duration\", \"-of\",\n",
        "         \"default=noprint_wrappers=1:nokey=1\", filename],\n",
        "        stdout=subprocess.PIPE,\n",
        "        stderr=subprocess.STDOUT\n",
        "    )\n",
        "    return float(result.stdout)\n",
        "\n",
        "duration = get_duration(\"video.mp4\")\n",
        "print(\"Video duration:\", duration)"
      ],
      "metadata": {
        "colab": {
          "base_uri": "https://localhost:8080/"
        },
        "id": "C5CorXrKtX9P",
        "outputId": "be3d46bd-ec2c-4a95-d390-1d638b9bbb88"
      },
      "execution_count": null,
      "outputs": [
        {
          "output_type": "stream",
          "name": "stdout",
          "text": [
            "Video duration: 5457.153733\n"
          ]
        }
      ]
    },
    {
      "cell_type": "code",
      "source": [
        "clip_length = 30  # seconds\n",
        "\n",
        "start_clip = (0, clip_length)\n",
        "middle_start = duration/2 - clip_length/2\n",
        "middle_clip = (middle_start, clip_length)\n",
        "end_start = duration - clip_length\n",
        "end_clip = (end_start, clip_length)\n",
        "\n",
        "clips = [start_clip, middle_clip, end_clip]\n",
        "print(clips)"
      ],
      "metadata": {
        "colab": {
          "base_uri": "https://localhost:8080/"
        },
        "id": "XQy3TDU1tXS2",
        "outputId": "0de66c56-90ed-45bc-fa9b-80d499bc0649"
      },
      "execution_count": null,
      "outputs": [
        {
          "output_type": "stream",
          "name": "stdout",
          "text": [
            "[(0, 30), (2713.5768665, 30), (5427.153733, 30)]\n"
          ]
        }
      ]
    },
    {
      "cell_type": "code",
      "source": [
        "def cut_clip(input_file, start, duration, output_file):\n",
        "    cmd = [\n",
        "        \"ffmpeg\", \"-ss\", str(start), \"-t\", str(duration),\n",
        "        \"-i\", input_file, \"-c:v\", \"libx264\", \"-c:a\", \"aac\",\n",
        "        output_file, \"-y\"\n",
        "    ]\n",
        "    subprocess.run(cmd)\n",
        "\n",
        "for i, (start, dur) in enumerate(clips):\n",
        "    cut_clip(\"video.mp4\", start, dur, f\"clip_{i+1}.mp4\")"
      ],
      "metadata": {
        "id": "95XLkMRytXY3"
      },
      "execution_count": null,
      "outputs": []
    },
    {
      "cell_type": "code",
      "source": [],
      "metadata": {
        "id": "tcoWhRgwtXbZ"
      },
      "execution_count": null,
      "outputs": []
    }
  ]
}